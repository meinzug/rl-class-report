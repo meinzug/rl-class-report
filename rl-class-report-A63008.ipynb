{
 "cells": [
  {
   "cell_type": "code",
   "execution_count": 1,
   "id": "2ff219c8-184b-46aa-9a2e-57e63bf4274e",
   "metadata": {},
   "outputs": [],
   "source": [
    "# !conda env list"
   ]
  },
  {
   "cell_type": "code",
   "execution_count": 2,
   "id": "fed329d0-12a8-41ad-94a2-c28a4072110a",
   "metadata": {},
   "outputs": [],
   "source": [
    "# !pip install 'gym[all]'\n",
    "# !pip show gym "
   ]
  },
  {
   "cell_type": "code",
   "execution_count": 3,
   "id": "7b7d881d-c1c9-4001-b7b2-a204ff10431d",
   "metadata": {},
   "outputs": [],
   "source": [
    "# !pip install torch torchvision torchaudio"
   ]
  },
  {
   "cell_type": "code",
   "execution_count": 4,
   "id": "974af5aa-0d6b-4dfd-bf4e-1912b08b4f02",
   "metadata": {},
   "outputs": [],
   "source": [
    "# matplotlib backend 모드를 ipython 에서 display 하기 위해 설치\n",
    "#!pip install ipympl"
   ]
  },
  {
   "cell_type": "code",
   "execution_count": 5,
   "id": "b8c184ba-48a2-46d3-bb32-bb07c23c3100",
   "metadata": {},
   "outputs": [
    {
     "name": "stdout",
     "output_type": "stream",
     "text": [
      "Apple M1 백앤드를 사용하려면 PyTorch '1.12.1' 이상이 필요.\n",
      "torch.__version__: 1.13.0\n",
      "torch.backends.mps.is_built(): True\n",
      "torch.backends.mps.is_available(): True\n",
      "gym ver: 0.26.2\n"
     ]
    }
   ],
   "source": [
    "import sys\n",
    "import os\n",
    "import gym\n",
    "import torch\n",
    "from torch import nn\n",
    "\n",
    "import warnings\n",
    "warnings.filterwarnings('ignore')\n",
    "\n",
    "print(f\"Apple M1 백앤드를 사용하려면 PyTorch '1.12.1' 이상이 필요.\")\n",
    "print(f\"torch.__version__: {torch.__version__}\")\n",
    "print(f\"torch.backends.mps.is_built(): {torch.backends.mps.is_built()}\")\n",
    "print(f\"torch.backends.mps.is_available(): {torch.backends.mps.is_available()}\")\n",
    "\n",
    "# gym 버전 확인\n",
    "print(f'gym ver: {gym.version.VERSION}')\n",
    "if gym.version.VERSION < '0.26.0':\n",
    "    sys.exit('gym 버전이 0.26 이상 필요.')\n",
    "\n",
    "trained_path = './trained-model'\n",
    "\n",
    "if not os.path.isdir(trained_path):\n",
    "    os.mkdir(trained_path)\n",
    "    print(f'디렉토리 생성됨. {trained_path}')"
   ]
  },
  {
   "cell_type": "code",
   "execution_count": 6,
   "id": "cd4714e8-e538-489e-a91a-7336c2ae46b5",
   "metadata": {},
   "outputs": [],
   "source": [
    "import math\n",
    "import random\n",
    "import numpy as np\n",
    "import matplotlib\n",
    "import matplotlib.pyplot as plt\n",
    "from IPython import display\n",
    "\n",
    "# matplotlib backend 를 jupyter notebook ipython 모드로 지정. 안하면 display plot 시 깜빡임\n",
    "# %matplotlib ipympl\n",
    "\n",
    "# matplotlib ipython plot 느린 속도로 별도 창에서 plot\n",
    "%matplotlib tk\n",
    "\n",
    "# from collections import namedtuple, deque\n",
    "from collections import namedtuple, deque\n",
    "from itertools import count\n",
    "import torch.optim as optim\n",
    "import torch.nn.functional as F\n",
    "\n",
    "env = gym.make('CartPole-v1')\n",
    "\n",
    "# 1.13.0 에서 Apple M1 GPU 가속 버그로 CPU 사용..\n",
    "device = torch.device(\"cpu\")\n",
    "# device = torch.device(\"mps:0\" if torch.backends.mps.is_available() else \"cpu\")"
   ]
  },
  {
   "cell_type": "code",
   "execution_count": 7,
   "id": "d6cbca89-c345-407b-bcda-45b840292c41",
   "metadata": {},
   "outputs": [],
   "source": [
    "Transition = namedtuple(\n",
    "    'Transition', ('state', 'action', 'next_state', 'reward'))\n",
    "\n",
    "class ReplayMemory(object):\n",
    "\n",
    "    def __init__(self, capacity):\n",
    "        self.memory = deque([], maxlen=capacity)\n",
    "\n",
    "    def push(self, *args):\n",
    "        \"\"\"Save a transition\"\"\"\n",
    "        self.memory.append(Transition(*args))\n",
    "\n",
    "    def sample(self, batch_size):\n",
    "        return random.sample(self.memory, batch_size)\n",
    "\n",
    "    def __len__(self):\n",
    "        return len(self.memory)"
   ]
  },
  {
   "cell_type": "code",
   "execution_count": 8,
   "id": "50022f2f-2b5f-46c1-8b49-14df540a5ede",
   "metadata": {},
   "outputs": [],
   "source": [
    "class DQN(nn.Module):\n",
    "    def __init__(self, n_observations, n_actions):\n",
    "        super(DQN, self).__init__()\n",
    "        self.layer1 = nn.Linear(n_observations, 128)\n",
    "        self.layer2 = nn.Linear(128, 128)\n",
    "        self.layer3 = nn.Linear(128, n_actions)\n",
    "\n",
    "    def forward(self, x):\n",
    "        x = F.relu(self.layer1(x))\n",
    "        x = F.relu(self.layer2(x))\n",
    "        x = self.layer3(x)\n",
    "        return x"
   ]
  },
  {
   "cell_type": "code",
   "execution_count": 9,
   "id": "f9ea39cd-a34a-44fd-8c6d-d56f5b24ca22",
   "metadata": {},
   "outputs": [
    {
     "name": "stdout",
     "output_type": "stream",
     "text": [
      "n_observations: 4\n"
     ]
    }
   ],
   "source": [
    "BATCH_SIZE = 64    # transition 샘플 갯수\n",
    "GAMMA      = 0.99  # discount factor\n",
    "EPS_START  = 0.9   # 시작시 epsilon 값\n",
    "EPS_END    = 0.01  # 종료시 epsilon 값\n",
    "EPS_DECAY  = 1000  # epsilon 감쇠값\n",
    "TAU        = 0.005 # soft target update rate\n",
    "LR         = 0.0004# learning rate\n",
    "MEM_SIZE   = 10000 # replayMemory maxlen\n",
    "EPISODES   = 400   # 에피소드 반복 횟수\n",
    "\n",
    "n_actions = env.action_space.n\n",
    "state, _ = env.reset()\n",
    "n_observations = len(state)\n",
    "print(f'n_observations: {n_observations}')\n",
    "\n",
    "policy_net = DQN(n_observations, n_actions).to(device)\n",
    "target_net = DQN(n_observations, n_actions).to(device)\n",
    "target_net.load_state_dict(policy_net.state_dict())\n",
    "\n",
    "optimizer = optim.AdamW(policy_net.parameters(), lr=LR, amsgrad=True)\n",
    "memory = ReplayMemory(MEM_SIZE)\n",
    "\n",
    "steps_done = 0\n",
    "\n",
    "def select_action(state):\n",
    "    global steps_done\n",
    "    sample = random.random()\n",
    "    eps_threshold = EPS_END + (EPS_START - EPS_END) * math.exp(-1. * steps_done / EPS_DECAY)\n",
    "    steps_done += 1\n",
    "    if sample > eps_threshold:\n",
    "        with torch.no_grad():\n",
    "            return policy_net(state).max(1)[1].view(1, 1)\n",
    "    else:\n",
    "        return torch.tensor([[env.action_space.sample()]], device=device, dtype=torch.long)\n",
    "\n",
    "episode_durations = []\n",
    "\n",
    "def plot_durations():\n",
    "    hyperparam_text  = f'batch_size: {BATCH_SIZE:,}\\n'\n",
    "    hyperparam_text += f'gamma: {GAMMA}\\n'\n",
    "    hyperparam_text += f'eps_start: {EPS_START}\\n'\n",
    "    hyperparam_text += f'eps_end: {EPS_END}\\n'\n",
    "    hyperparam_text += f'eps_decay: {EPS_DECAY:,}\\n'\n",
    "    hyperparam_text += f'tau: {TAU}\\n'\n",
    "    hyperparam_text += f'lr: {LR}\\n'\n",
    "    hyperparam_text += f'replay_size: {MEM_SIZE:,}\\n'\n",
    "    hyperparam_text += f'episodes: {EPISODES:,}'\n",
    "    \n",
    "    plt.figure(1)\n",
    "    plt.clf()\n",
    "    durations_t = torch.tensor(episode_durations, dtype=torch.float)\n",
    "    plt.title(f'Training...\\n(pytorch backend:{device})')\n",
    "    plt.xlabel('Episode')\n",
    "    plt.ylabel('Duration')\n",
    "    plt.plot(durations_t.numpy(), label=hyperparam_text)\n",
    "    plt.grid(linestyle=':', color='0.7', linewidth=1)\n",
    "    # print hyperparameter\n",
    "    plt.legend(handlelength=0, handletextpad=0, loc='upper left')\n",
    "    # 화면 업데이트를 위해\n",
    "    plt.pause(0.0001)"
   ]
  },
  {
   "cell_type": "code",
   "execution_count": 10,
   "id": "f0452b49-9c22-4c85-a824-e4a62ebe173e",
   "metadata": {},
   "outputs": [],
   "source": [
    "def optimize_model():\n",
    "    if len(memory) < BATCH_SIZE:\n",
    "        return\n",
    "    transitions = memory.sample(BATCH_SIZE)\n",
    "    batch = Transition(*zip(*transitions))\n",
    "\n",
    "    non_final_mask = torch.tensor(tuple(map(lambda s: s is not None, batch.next_state)), device=device, dtype=torch.bool)\n",
    "    non_final_next_states = torch.cat([s for s in batch.next_state if s is not None])\n",
    "    state_batch = torch.cat(batch.state)\n",
    "    action_batch = torch.cat(batch.action)\n",
    "    reward_batch = torch.cat(batch.reward)\n",
    "\n",
    "    # Compute Q(s_t, a)\n",
    "    state_action_values = policy_net(state_batch).gather(1, action_batch)\n",
    "\n",
    "    # Compute V(s_{t+1})\n",
    "    next_state_values = torch.zeros(BATCH_SIZE, device=device)\n",
    "\n",
    "    with torch.no_grad():\n",
    "        next_state_values[non_final_mask] = target_net(non_final_next_states).max(1)[0]\n",
    "    \n",
    "    # Compute the expected Q values\n",
    "    expected_state_action_values = (next_state_values * GAMMA) + reward_batch\n",
    "\n",
    "    # Compute Huber loss\n",
    "    criterion = nn.SmoothL1Loss()\n",
    "    loss = criterion(state_action_values, expected_state_action_values.unsqueeze(1))\n",
    "\n",
    "    # Optimize the model\n",
    "    optimizer.zero_grad()\n",
    "    loss.backward()\n",
    "\n",
    "    # In-place gradient clipping\n",
    "    torch.nn.utils.clip_grad_value_(policy_net.parameters(), 100)\n",
    "    optimizer.step()"
   ]
  },
  {
   "cell_type": "code",
   "execution_count": 11,
   "id": "93a2bf5b-07c0-41b0-8653-0d68ac6e8283",
   "metadata": {},
   "outputs": [],
   "source": [
    "for i_episode in range(EPISODES):\n",
    "\n",
    "    # Initialize the environment and get it's state\n",
    "    state, _ = env.reset()\n",
    "    state = torch.tensor(state, dtype=torch.float32, device=device).unsqueeze(0)\n",
    "    for t in count():\n",
    "        action = select_action(state)\n",
    "        observation, reward, terminated, truncated, _ = env.step(action.item())\n",
    "        reward = torch.tensor([reward], device=device)\n",
    "        done = terminated or truncated\n",
    "\n",
    "        if terminated:\n",
    "            next_state = None\n",
    "        else:\n",
    "            next_state = torch.tensor(observation, dtype=torch.float32, device=device).unsqueeze(0)\n",
    "\n",
    "        memory.push(state, action, next_state, reward)\n",
    "        state = next_state\n",
    "\n",
    "        optimize_model()\n",
    "\n",
    "        target_net_state_dict = target_net.state_dict()\n",
    "        policy_net_state_dict = policy_net.state_dict()\n",
    "\n",
    "        for key in policy_net_state_dict:\n",
    "            target_net_state_dict[key] = policy_net_state_dict[key] * TAU + target_net_state_dict[key]*(1-TAU)\n",
    "        \n",
    "        if i_episode % 3 == 0:\n",
    "            target_net.load_state_dict(target_net_state_dict)\n",
    "\n",
    "        if done:\n",
    "            episode_durations.append(t + 1)\n",
    "            plot_durations()\n",
    "            break\n",
    "\n",
    "plt.show()"
   ]
  },
  {
   "cell_type": "code",
   "execution_count": 14,
   "id": "ef91ad27-85a7-489b-9573-ecea26cdf437",
   "metadata": {},
   "outputs": [],
   "source": [
    "# PyTorch model save\n",
    "torch_script = torch.jit.script(target_net)\n",
    "torch_script.save('./trained-model/target_net_final_3.pt')"
   ]
  },
  {
   "cell_type": "code",
   "execution_count": 13,
   "id": "98495c79-603f-483f-960a-324e4ac437a6",
   "metadata": {},
   "outputs": [
    {
     "name": "stderr",
     "output_type": "stream",
     "text": [
      "2022-12-12 20:15:40.613 python[45947:7497586] +[CATransaction synchronize] called within transaction\n"
     ]
    }
   ],
   "source": [
    "## saved_model = torch.jit.load('./trained-model/target_net.pt')\n",
    "# saved_model.eval()\n",
    "# print(saved_model)"
   ]
  }
 ],
 "metadata": {
  "kernelspec": {
   "display_name": "Python 3 (ipykernel)",
   "language": "python",
   "name": "python3"
  },
  "language_info": {
   "codemirror_mode": {
    "name": "ipython",
    "version": 3
   },
   "file_extension": ".py",
   "mimetype": "text/x-python",
   "name": "python",
   "nbconvert_exporter": "python",
   "pygments_lexer": "ipython3",
   "version": "3.9.15"
  },
  "vscode": {
   "interpreter": {
    "hash": "38cca0c38332a56087b24af0bc80247f4fced29cb4f7f437d91dc159adec9c4e"
   }
  }
 },
 "nbformat": 4,
 "nbformat_minor": 5
}
